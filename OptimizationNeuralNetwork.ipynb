{
 "cells": [
  {
   "cell_type": "markdown",
   "metadata": {
    "id": "fEr6unymwfhU"
   },
   "source": [
    "## Preprocessing"
   ]
  },
  {
   "cell_type": "code",
   "execution_count": 1,
   "metadata": {
    "colab": {
     "base_uri": "https://localhost:8080/",
     "height": 496
    },
    "id": "xIe7qVsEwfhX",
    "outputId": "80510fa8-5649-4222-84ad-7277a0d6b21b"
   },
   "outputs": [
    {
     "name": "stderr",
     "output_type": "stream",
     "text": [
      "2023-04-02 23:54:19.088816: I tensorflow/core/platform/cpu_feature_guard.cc:182] This TensorFlow binary is optimized to use available CPU instructions in performance-critical operations.\n",
      "To enable the following instructions: AVX2 FMA, in other operations, rebuild TensorFlow with the appropriate compiler flags.\n"
     ]
    },
    {
     "data": {
      "text/html": [
       "<div>\n",
       "<style scoped>\n",
       "    .dataframe tbody tr th:only-of-type {\n",
       "        vertical-align: middle;\n",
       "    }\n",
       "\n",
       "    .dataframe tbody tr th {\n",
       "        vertical-align: top;\n",
       "    }\n",
       "\n",
       "    .dataframe thead th {\n",
       "        text-align: right;\n",
       "    }\n",
       "</style>\n",
       "<table border=\"1\" class=\"dataframe\">\n",
       "  <thead>\n",
       "    <tr style=\"text-align: right;\">\n",
       "      <th></th>\n",
       "      <th>EIN</th>\n",
       "      <th>NAME</th>\n",
       "      <th>APPLICATION_TYPE</th>\n",
       "      <th>AFFILIATION</th>\n",
       "      <th>CLASSIFICATION</th>\n",
       "      <th>USE_CASE</th>\n",
       "      <th>ORGANIZATION</th>\n",
       "      <th>STATUS</th>\n",
       "      <th>INCOME_AMT</th>\n",
       "      <th>SPECIAL_CONSIDERATIONS</th>\n",
       "      <th>ASK_AMT</th>\n",
       "      <th>IS_SUCCESSFUL</th>\n",
       "    </tr>\n",
       "  </thead>\n",
       "  <tbody>\n",
       "    <tr>\n",
       "      <th>0</th>\n",
       "      <td>10520599</td>\n",
       "      <td>BLUE KNIGHTS MOTORCYCLE CLUB</td>\n",
       "      <td>T10</td>\n",
       "      <td>Independent</td>\n",
       "      <td>C1000</td>\n",
       "      <td>ProductDev</td>\n",
       "      <td>Association</td>\n",
       "      <td>1</td>\n",
       "      <td>0</td>\n",
       "      <td>N</td>\n",
       "      <td>5000</td>\n",
       "      <td>1</td>\n",
       "    </tr>\n",
       "    <tr>\n",
       "      <th>1</th>\n",
       "      <td>10531628</td>\n",
       "      <td>AMERICAN CHESAPEAKE CLUB CHARITABLE TR</td>\n",
       "      <td>T3</td>\n",
       "      <td>Independent</td>\n",
       "      <td>C2000</td>\n",
       "      <td>Preservation</td>\n",
       "      <td>Co-operative</td>\n",
       "      <td>1</td>\n",
       "      <td>1-9999</td>\n",
       "      <td>N</td>\n",
       "      <td>108590</td>\n",
       "      <td>1</td>\n",
       "    </tr>\n",
       "    <tr>\n",
       "      <th>2</th>\n",
       "      <td>10547893</td>\n",
       "      <td>ST CLOUD PROFESSIONAL FIREFIGHTERS</td>\n",
       "      <td>T5</td>\n",
       "      <td>CompanySponsored</td>\n",
       "      <td>C3000</td>\n",
       "      <td>ProductDev</td>\n",
       "      <td>Association</td>\n",
       "      <td>1</td>\n",
       "      <td>0</td>\n",
       "      <td>N</td>\n",
       "      <td>5000</td>\n",
       "      <td>0</td>\n",
       "    </tr>\n",
       "    <tr>\n",
       "      <th>3</th>\n",
       "      <td>10553066</td>\n",
       "      <td>SOUTHSIDE ATHLETIC ASSOCIATION</td>\n",
       "      <td>T3</td>\n",
       "      <td>CompanySponsored</td>\n",
       "      <td>C2000</td>\n",
       "      <td>Preservation</td>\n",
       "      <td>Trust</td>\n",
       "      <td>1</td>\n",
       "      <td>10000-24999</td>\n",
       "      <td>N</td>\n",
       "      <td>6692</td>\n",
       "      <td>1</td>\n",
       "    </tr>\n",
       "    <tr>\n",
       "      <th>4</th>\n",
       "      <td>10556103</td>\n",
       "      <td>GENETIC RESEARCH INSTITUTE OF THE DESERT</td>\n",
       "      <td>T3</td>\n",
       "      <td>Independent</td>\n",
       "      <td>C1000</td>\n",
       "      <td>Heathcare</td>\n",
       "      <td>Trust</td>\n",
       "      <td>1</td>\n",
       "      <td>100000-499999</td>\n",
       "      <td>N</td>\n",
       "      <td>142590</td>\n",
       "      <td>1</td>\n",
       "    </tr>\n",
       "  </tbody>\n",
       "</table>\n",
       "</div>"
      ],
      "text/plain": [
       "        EIN                                      NAME APPLICATION_TYPE  \\\n",
       "0  10520599              BLUE KNIGHTS MOTORCYCLE CLUB              T10   \n",
       "1  10531628    AMERICAN CHESAPEAKE CLUB CHARITABLE TR               T3   \n",
       "2  10547893        ST CLOUD PROFESSIONAL FIREFIGHTERS               T5   \n",
       "3  10553066            SOUTHSIDE ATHLETIC ASSOCIATION               T3   \n",
       "4  10556103  GENETIC RESEARCH INSTITUTE OF THE DESERT               T3   \n",
       "\n",
       "        AFFILIATION CLASSIFICATION      USE_CASE  ORGANIZATION  STATUS  \\\n",
       "0       Independent          C1000    ProductDev   Association       1   \n",
       "1       Independent          C2000  Preservation  Co-operative       1   \n",
       "2  CompanySponsored          C3000    ProductDev   Association       1   \n",
       "3  CompanySponsored          C2000  Preservation         Trust       1   \n",
       "4       Independent          C1000     Heathcare         Trust       1   \n",
       "\n",
       "      INCOME_AMT SPECIAL_CONSIDERATIONS  ASK_AMT  IS_SUCCESSFUL  \n",
       "0              0                      N     5000              1  \n",
       "1         1-9999                      N   108590              1  \n",
       "2              0                      N     5000              0  \n",
       "3    10000-24999                      N     6692              1  \n",
       "4  100000-499999                      N   142590              1  "
      ]
     },
     "execution_count": 1,
     "metadata": {},
     "output_type": "execute_result"
    }
   ],
   "source": [
    "# Import our dependencies\n",
    "from sklearn.model_selection import train_test_split\n",
    "from sklearn.preprocessing import StandardScaler\n",
    "from sklearn.feature_selection import VarianceThreshold\n",
    "import matplotlib.pyplot as plt \n",
    "import numpy as np \n",
    "import seaborn as sns \n",
    "import pandas as pd\n",
    "from sklearn.metrics import balanced_accuracy_score, confusion_matrix, classification_report\n",
    "import tensorflow as tf\n",
    "import keras\n",
    "from tensorflow.keras import optimizers\n",
    "\n",
    "# Import and read the charity_data.csv.\n",
    "import pandas as pd \n",
    "application_df = pd.read_csv(\"https://static.bc-edx.com/data/dl-1-2/m21/lms/starter/charity_data.csv\")\n",
    "application_df.head()"
   ]
  },
  {
   "cell_type": "code",
   "execution_count": 2,
   "metadata": {},
   "outputs": [
    {
     "data": {
      "text/plain": [
       "PARENT BOOSTER USA INC                                                  1260\n",
       "TOPS CLUB INC                                                            765\n",
       "UNITED STATES BOWLING CONGRESS INC                                       700\n",
       "WASHINGTON STATE UNIVERSITY                                              492\n",
       "AMATEUR ATHLETIC UNION OF THE UNITED STATES INC                          408\n",
       "                                                                        ... \n",
       "ST LOUIS SLAM WOMENS FOOTBALL                                              1\n",
       "AIESEC ALUMNI IBEROAMERICA CORP                                            1\n",
       "WEALLBLEEDRED ORG INC                                                      1\n",
       "AMERICAN SOCIETY FOR STANDARDS IN MEDIUMSHIP & PSYCHICAL INVESTIGATI       1\n",
       "WATERHOUSE CHARITABLE TR                                                   1\n",
       "Name: NAME, Length: 19568, dtype: int64"
      ]
     },
     "execution_count": 2,
     "metadata": {},
     "output_type": "execute_result"
    }
   ],
   "source": [
    "application_df['NAME'].value_counts()"
   ]
  },
  {
   "cell_type": "code",
   "execution_count": 3,
   "metadata": {
    "id": "nKoRN70UwfhZ"
   },
   "outputs": [],
   "source": [
    "# Drop the non-beneficial ID columns, 'EIN' and 'NAME'.\n",
    "drop = ['EIN', 'NAME']\n",
    "\n",
    "application_df.drop(drop, axis = 1, inplace = True)"
   ]
  },
  {
   "cell_type": "code",
   "execution_count": 4,
   "metadata": {
    "colab": {
     "base_uri": "https://localhost:8080/"
    },
    "id": "-sA3kzpAwfhZ",
    "outputId": "01009253-c08d-40a3-8024-95844896ae76"
   },
   "outputs": [
    {
     "name": "stdout",
     "output_type": "stream",
     "text": [
      "ASK_AMT                   8747\n",
      "CLASSIFICATION              71\n",
      "APPLICATION_TYPE            17\n",
      "INCOME_AMT                   9\n",
      "AFFILIATION                  6\n",
      "USE_CASE                     5\n",
      "ORGANIZATION                 4\n",
      "STATUS                       2\n",
      "SPECIAL_CONSIDERATIONS       2\n",
      "IS_SUCCESSFUL                2\n",
      "dtype: int64\n"
     ]
    }
   ],
   "source": [
    "# Determine the number of unique values in each columns\n",
    "print(application_df.apply(lambda col: len(col.unique())).sort_values(ascending = False))"
   ]
  },
  {
   "cell_type": "code",
   "execution_count": 5,
   "metadata": {
    "colab": {
     "base_uri": "https://localhost:8080/",
     "height": 582
    },
    "id": "ZK3TWKZKwfha",
    "outputId": "64116002-dfe2-46a7-fb0f-5f0fd11dbad6"
   },
   "outputs": [
    {
     "data": {
      "text/html": [
       "<div>\n",
       "<style scoped>\n",
       "    .dataframe tbody tr th:only-of-type {\n",
       "        vertical-align: middle;\n",
       "    }\n",
       "\n",
       "    .dataframe tbody tr th {\n",
       "        vertical-align: top;\n",
       "    }\n",
       "\n",
       "    .dataframe thead th {\n",
       "        text-align: right;\n",
       "    }\n",
       "</style>\n",
       "<table border=\"1\" class=\"dataframe\">\n",
       "  <thead>\n",
       "    <tr style=\"text-align: right;\">\n",
       "      <th></th>\n",
       "      <th>APPLICATION_TYPE</th>\n",
       "      <th>Percentage</th>\n",
       "      <th>CUMSUM</th>\n",
       "    </tr>\n",
       "  </thead>\n",
       "  <tbody>\n",
       "    <tr>\n",
       "      <th>T3</th>\n",
       "      <td>27037</td>\n",
       "      <td>0.788274</td>\n",
       "      <td>0.788274</td>\n",
       "    </tr>\n",
       "    <tr>\n",
       "      <th>T4</th>\n",
       "      <td>1542</td>\n",
       "      <td>0.044958</td>\n",
       "      <td>0.833231</td>\n",
       "    </tr>\n",
       "    <tr>\n",
       "      <th>T6</th>\n",
       "      <td>1216</td>\n",
       "      <td>0.035453</td>\n",
       "      <td>0.868684</td>\n",
       "    </tr>\n",
       "    <tr>\n",
       "      <th>T5</th>\n",
       "      <td>1173</td>\n",
       "      <td>0.034199</td>\n",
       "      <td>0.902883</td>\n",
       "    </tr>\n",
       "    <tr>\n",
       "      <th>T19</th>\n",
       "      <td>1065</td>\n",
       "      <td>0.031050</td>\n",
       "      <td>0.933934</td>\n",
       "    </tr>\n",
       "    <tr>\n",
       "      <th>T8</th>\n",
       "      <td>737</td>\n",
       "      <td>0.021488</td>\n",
       "      <td>0.955421</td>\n",
       "    </tr>\n",
       "    <tr>\n",
       "      <th>T7</th>\n",
       "      <td>725</td>\n",
       "      <td>0.021138</td>\n",
       "      <td>0.976559</td>\n",
       "    </tr>\n",
       "    <tr>\n",
       "      <th>T10</th>\n",
       "      <td>528</td>\n",
       "      <td>0.015394</td>\n",
       "      <td>0.991953</td>\n",
       "    </tr>\n",
       "    <tr>\n",
       "      <th>T9</th>\n",
       "      <td>156</td>\n",
       "      <td>0.004548</td>\n",
       "      <td>0.996501</td>\n",
       "    </tr>\n",
       "    <tr>\n",
       "      <th>T13</th>\n",
       "      <td>66</td>\n",
       "      <td>0.001924</td>\n",
       "      <td>0.998426</td>\n",
       "    </tr>\n",
       "    <tr>\n",
       "      <th>T12</th>\n",
       "      <td>27</td>\n",
       "      <td>0.000787</td>\n",
       "      <td>0.999213</td>\n",
       "    </tr>\n",
       "    <tr>\n",
       "      <th>T2</th>\n",
       "      <td>16</td>\n",
       "      <td>0.000466</td>\n",
       "      <td>0.999679</td>\n",
       "    </tr>\n",
       "    <tr>\n",
       "      <th>T25</th>\n",
       "      <td>3</td>\n",
       "      <td>0.000087</td>\n",
       "      <td>0.999767</td>\n",
       "    </tr>\n",
       "    <tr>\n",
       "      <th>T14</th>\n",
       "      <td>3</td>\n",
       "      <td>0.000087</td>\n",
       "      <td>0.999854</td>\n",
       "    </tr>\n",
       "    <tr>\n",
       "      <th>T29</th>\n",
       "      <td>2</td>\n",
       "      <td>0.000058</td>\n",
       "      <td>0.999913</td>\n",
       "    </tr>\n",
       "    <tr>\n",
       "      <th>T15</th>\n",
       "      <td>2</td>\n",
       "      <td>0.000058</td>\n",
       "      <td>0.999971</td>\n",
       "    </tr>\n",
       "    <tr>\n",
       "      <th>T17</th>\n",
       "      <td>1</td>\n",
       "      <td>0.000029</td>\n",
       "      <td>1.000000</td>\n",
       "    </tr>\n",
       "  </tbody>\n",
       "</table>\n",
       "</div>"
      ],
      "text/plain": [
       "     APPLICATION_TYPE  Percentage    CUMSUM\n",
       "T3              27037    0.788274  0.788274\n",
       "T4               1542    0.044958  0.833231\n",
       "T6               1216    0.035453  0.868684\n",
       "T5               1173    0.034199  0.902883\n",
       "T19              1065    0.031050  0.933934\n",
       "T8                737    0.021488  0.955421\n",
       "T7                725    0.021138  0.976559\n",
       "T10               528    0.015394  0.991953\n",
       "T9                156    0.004548  0.996501\n",
       "T13                66    0.001924  0.998426\n",
       "T12                27    0.000787  0.999213\n",
       "T2                 16    0.000466  0.999679\n",
       "T25                 3    0.000087  0.999767\n",
       "T14                 3    0.000087  0.999854\n",
       "T29                 2    0.000058  0.999913\n",
       "T15                 2    0.000058  0.999971\n",
       "T17                 1    0.000029  1.000000"
      ]
     },
     "execution_count": 5,
     "metadata": {},
     "output_type": "execute_result"
    }
   ],
   "source": [
    "# Look at APPLICATION_TYPE value counts for binning\n",
    "types = application_df.APPLICATION_TYPE.value_counts().to_frame()\n",
    "types['Percentage'] = types['APPLICATION_TYPE']/types['APPLICATION_TYPE'].sum()\n",
    "types['CUMSUM'] = types['Percentage'].cumsum()\n",
    "types"
   ]
  },
  {
   "cell_type": "code",
   "execution_count": 6,
   "metadata": {
    "colab": {
     "base_uri": "https://localhost:8080/"
    },
    "id": "BNEMnLokIVXI",
    "outputId": "392067f4-5fe7-452e-9eae-2cb75337e836"
   },
   "outputs": [
    {
     "name": "stdout",
     "output_type": "stream",
     "text": [
      "Index(['T13', 'T12', 'T2', 'T25', 'T14', 'T29', 'T15', 'T17'], dtype='object')\n"
     ]
    }
   ],
   "source": [
    "rare = types.index[-8:]\n",
    "print(rare)"
   ]
  },
  {
   "cell_type": "code",
   "execution_count": 7,
   "metadata": {
    "colab": {
     "base_uri": "https://localhost:8080/"
    },
    "id": "pMpenORTwfha",
    "outputId": "22ee0b0a-3e4c-44ab-b771-fe3e2a8c9e13"
   },
   "outputs": [
    {
     "data": {
      "text/plain": [
       "T3      27037\n",
       "T4       1542\n",
       "T6       1216\n",
       "T5       1173\n",
       "T19      1065\n",
       "T8        737\n",
       "T7        725\n",
       "T10       528\n",
       "T9        156\n",
       "Rare      120\n",
       "Name: APPLICATION_TYPE, dtype: int64"
      ]
     },
     "execution_count": 7,
     "metadata": {},
     "output_type": "execute_result"
    }
   ],
   "source": [
    "# Choose a cutoff value and create a list of application types to be replaced\n",
    "# use the variable name `application_types_to_replace`\n",
    "\n",
    "# Replace in dataframe for rare \n",
    "for app in rare:\n",
    "    application_df['APPLICATION_TYPE'] = application_df['APPLICATION_TYPE'].replace(app,\"Rare\")\n",
    "\n",
    "# Check to make sure binning was successful\n",
    "application_df['APPLICATION_TYPE'].value_counts()"
   ]
  },
  {
   "cell_type": "code",
   "execution_count": 8,
   "metadata": {
    "colab": {
     "base_uri": "https://localhost:8080/",
     "height": 520
    },
    "id": "SVJZT-Qbwfhb",
    "outputId": "3504bb49-5fd0-447e-8807-2984dfcc3346"
   },
   "outputs": [
    {
     "data": {
      "text/html": [
       "<div>\n",
       "<style scoped>\n",
       "    .dataframe tbody tr th:only-of-type {\n",
       "        vertical-align: middle;\n",
       "    }\n",
       "\n",
       "    .dataframe tbody tr th {\n",
       "        vertical-align: top;\n",
       "    }\n",
       "\n",
       "    .dataframe thead th {\n",
       "        text-align: right;\n",
       "    }\n",
       "</style>\n",
       "<table border=\"1\" class=\"dataframe\">\n",
       "  <thead>\n",
       "    <tr style=\"text-align: right;\">\n",
       "      <th></th>\n",
       "      <th>CLASSIFICATION</th>\n",
       "    </tr>\n",
       "  </thead>\n",
       "  <tbody>\n",
       "    <tr>\n",
       "      <th>C1000</th>\n",
       "      <td>17326</td>\n",
       "    </tr>\n",
       "    <tr>\n",
       "      <th>C2000</th>\n",
       "      <td>6074</td>\n",
       "    </tr>\n",
       "    <tr>\n",
       "      <th>C1200</th>\n",
       "      <td>4837</td>\n",
       "    </tr>\n",
       "    <tr>\n",
       "      <th>C3000</th>\n",
       "      <td>1918</td>\n",
       "    </tr>\n",
       "    <tr>\n",
       "      <th>C2100</th>\n",
       "      <td>1883</td>\n",
       "    </tr>\n",
       "    <tr>\n",
       "      <th>C7000</th>\n",
       "      <td>777</td>\n",
       "    </tr>\n",
       "    <tr>\n",
       "      <th>C1700</th>\n",
       "      <td>287</td>\n",
       "    </tr>\n",
       "    <tr>\n",
       "      <th>C4000</th>\n",
       "      <td>194</td>\n",
       "    </tr>\n",
       "    <tr>\n",
       "      <th>C5000</th>\n",
       "      <td>116</td>\n",
       "    </tr>\n",
       "    <tr>\n",
       "      <th>C1270</th>\n",
       "      <td>114</td>\n",
       "    </tr>\n",
       "    <tr>\n",
       "      <th>C2700</th>\n",
       "      <td>104</td>\n",
       "    </tr>\n",
       "    <tr>\n",
       "      <th>C2800</th>\n",
       "      <td>95</td>\n",
       "    </tr>\n",
       "    <tr>\n",
       "      <th>C7100</th>\n",
       "      <td>75</td>\n",
       "    </tr>\n",
       "    <tr>\n",
       "      <th>C1300</th>\n",
       "      <td>58</td>\n",
       "    </tr>\n",
       "    <tr>\n",
       "      <th>C1280</th>\n",
       "      <td>50</td>\n",
       "    </tr>\n",
       "  </tbody>\n",
       "</table>\n",
       "</div>"
      ],
      "text/plain": [
       "       CLASSIFICATION\n",
       "C1000           17326\n",
       "C2000            6074\n",
       "C1200            4837\n",
       "C3000            1918\n",
       "C2100            1883\n",
       "C7000             777\n",
       "C1700             287\n",
       "C4000             194\n",
       "C5000             116\n",
       "C1270             114\n",
       "C2700             104\n",
       "C2800              95\n",
       "C7100              75\n",
       "C1300              58\n",
       "C1280              50"
      ]
     },
     "execution_count": 8,
     "metadata": {},
     "output_type": "execute_result"
    }
   ],
   "source": [
    "# Look at CLASSIFICATION value counts for binning\n",
    "classification = application_df.CLASSIFICATION.value_counts().sort_values(ascending = False).to_frame()\n",
    "classification.head(15)"
   ]
  },
  {
   "cell_type": "code",
   "execution_count": 9,
   "metadata": {
    "colab": {
     "base_uri": "https://localhost:8080/"
    },
    "id": "rmpQYt9Gwfhb",
    "outputId": "d12b7f1a-9b45-4178-fde0-505d9be99eec"
   },
   "outputs": [
    {
     "name": "stdout",
     "output_type": "stream",
     "text": [
      "['C1260', 'C0', 'C2710', 'C3200', 'C1234', 'C1246', 'C1267', 'C1256', 'C1728', 'C1570', 'C1283', 'C2380', 'C1732', 'C8210', 'C2170', 'C4120', 'C1245', 'C2561', 'C4500', 'C2500', 'C1236', 'C1580', 'C2570', 'C3700', 'C1900', 'C1820', 'C6100', 'C1248', 'C1370', 'C5200', 'C2600', 'C4200', 'C2190', 'C2150']\n"
     ]
    }
   ],
   "source": [
    "# You may find it helpful to look at CLASSIFICATION value counts >1\n",
    "rarity = classification[classification['CLASSIFICATION'] < 5]\n",
    "rare = rarity.index.tolist()\n",
    "print(rare)"
   ]
  },
  {
   "cell_type": "code",
   "execution_count": 10,
   "metadata": {
    "colab": {
     "base_uri": "https://localhost:8080/"
    },
    "id": "fEbIr-XBwfhc",
    "outputId": "9fc0ab6f-912a-48d1-b6b0-95359ce4f529"
   },
   "outputs": [
    {
     "data": {
      "text/plain": [
       "C1000         17326\n",
       "C2000          6074\n",
       "C1200          4837\n",
       "C3000          1918\n",
       "C2100          1883\n",
       "C7000           777\n",
       "C1700           287\n",
       "C4000           194\n",
       "C5000           116\n",
       "C1270           114\n",
       "C2700           104\n",
       "C2800            95\n",
       "C7100            75\n",
       "C1300            58\n",
       "C1280            50\n",
       "rare_class       45\n",
       "C1230            36\n",
       "C1400            34\n",
       "C2300            32\n",
       "C7200            32\n",
       "C1240            30\n",
       "C8000            20\n",
       "C7120            18\n",
       "C1500            16\n",
       "C6000            15\n",
       "C1800            15\n",
       "C1250            14\n",
       "C8200            11\n",
       "C1278            10\n",
       "C1238            10\n",
       "C1235             9\n",
       "C1237             9\n",
       "C7210             7\n",
       "C4100             6\n",
       "C1720             6\n",
       "C2400             6\n",
       "C1257             5\n",
       "C1600             5\n",
       "Name: CLASSIFICATION, dtype: int64"
      ]
     },
     "execution_count": 10,
     "metadata": {},
     "output_type": "execute_result"
    }
   ],
   "source": [
    "# Choose a cutoff value and create a list of classifications to be replaced\n",
    "# Replace in dataframe\n",
    "for cls in rare:\n",
    "    application_df['CLASSIFICATION'] = application_df['CLASSIFICATION'].replace(cls,\"rare_class\")\n",
    "    \n",
    "# Check to make sure binning was successful\n",
    "application_df['CLASSIFICATION'].value_counts()"
   ]
  },
  {
   "cell_type": "code",
   "execution_count": 11,
   "metadata": {
    "colab": {
     "base_uri": "https://localhost:8080/"
    },
    "id": "ogTftX_h3LCM",
    "outputId": "c01aa4a0-abfa-4e47-a3fd-fc0dc05c4f35"
   },
   "outputs": [
    {
     "name": "stdout",
     "output_type": "stream",
     "text": [
      "Index(['APPLICATION_TYPE', 'AFFILIATION', 'CLASSIFICATION', 'USE_CASE',\n",
      "       'ORGANIZATION', 'INCOME_AMT', 'SPECIAL_CONSIDERATIONS'],\n",
      "      dtype='object')\n"
     ]
    }
   ],
   "source": [
    "# Isolating Object Catories \n",
    "category = application_df.select_dtypes(include='object').columns\n",
    "print(category)"
   ]
  },
  {
   "cell_type": "code",
   "execution_count": 12,
   "metadata": {
    "id": "Pm61VwXowfhc"
   },
   "outputs": [],
   "source": [
    "# Convert categorical data to numeric with `pd.get_dummies`\n",
    "cat = pd.get_dummies(application_df[category], drop_first=False)"
   ]
  },
  {
   "cell_type": "code",
   "execution_count": 13,
   "metadata": {
    "id": "JsXusW4hPBVj"
   },
   "outputs": [],
   "source": [
    "# Drop original data\n",
    "application_df.drop(category, axis = 1, inplace = True)\n",
    "application_df = pd.merge(application_df, cat, left_index = True, right_index = True)"
   ]
  },
  {
   "cell_type": "code",
   "execution_count": 14,
   "metadata": {
    "id": "e10x2IOLwfhd"
   },
   "outputs": [],
   "source": [
    "# Split our preprocessed data into our features and target arrays\n",
    "feature = [col for col in application_df.columns if col != 'IS_SUCCESSFUL']\n",
    "X = application_df[feature]\n",
    "Y = application_df['IS_SUCCESSFUL']\n",
    "\n",
    "# Split the preprocessed data into a training and testing dataset\n",
    "X_train, X_test, y_train, y_test = train_test_split(X, Y, test_size = 0.2, random_state = 1)"
   ]
  },
  {
   "cell_type": "code",
   "execution_count": 15,
   "metadata": {
    "id": "erz9puypwfhd"
   },
   "outputs": [],
   "source": [
    "# Create a StandardScaler instances\n",
    "scaler = StandardScaler()\n",
    "\n",
    "# Fit the StandardScaler\n",
    "X_scaler = scaler.fit(X_train)\n",
    "\n",
    "# Scale the data\n",
    "X_train_scaled = X_scaler.transform(X_train)\n",
    "X_test_scaled = X_scaler.transform(X_test)"
   ]
  },
  {
   "cell_type": "markdown",
   "metadata": {},
   "source": [
    "# Feature Selection"
   ]
  },
  {
   "cell_type": "markdown",
   "metadata": {
    "id": "pjCmek7uP47I"
   },
   "source": [
    "## Correlation Matrix to remove low-correlated features\n",
    "\n"
   ]
  },
  {
   "cell_type": "code",
   "execution_count": 16,
   "metadata": {
    "colab": {
     "base_uri": "https://localhost:8080/"
    },
    "id": "CohQ1Vn_OiXb",
    "outputId": "12dbf81d-08d0-479b-a40b-677a9bf9977b",
    "scrolled": true
   },
   "outputs": [
    {
     "name": "stdout",
     "output_type": "stream",
     "text": [
      "                              IS_SUCCESSFUL\n",
      "AFFILIATION_CompanySponsored       0.369379\n",
      "AFFILIATION_Independent            0.368322\n",
      "ORGANIZATION_Association           0.179561\n",
      "ORGANIZATION_Trust                 0.162164\n",
      "CLASSIFICATION_C2100               0.147895\n",
      "APPLICATION_TYPE_T19               0.123303\n",
      "CLASSIFICATION_C7000               0.110084\n",
      "APPLICATION_TYPE_T4                0.098692\n",
      "APPLICATION_TYPE_T5                0.088575\n",
      "APPLICATION_TYPE_T10               0.086805\n",
      "APPLICATION_TYPE_T6                0.079817\n",
      "INCOME_AMT_1-9999                  0.067058\n",
      "CLASSIFICATION_C1000               0.062589\n",
      "CLASSIFICATION_C1200               0.056621\n",
      "CLASSIFICATION_C5000               0.056121\n",
      "(76, 1)\n"
     ]
    }
   ],
   "source": [
    "corr_ = abs(application_df.corr()[['IS_SUCCESSFUL']])\n",
    "corr_ = corr_.sort_values(by = 'IS_SUCCESSFUL', ascending = False)\n",
    "corr_ = corr_[corr_.index != 'IS_SUCCESSFUL']\n",
    "print(corr_.head(15))\n",
    "print(corr_.shape)"
   ]
  },
  {
   "cell_type": "markdown",
   "metadata": {},
   "source": [
    "Based on the results, it doesn't seem like any one particular column is strongly correlated with  \n",
    "whether an organization will be successful. This is expected as based on the PCA analysis we know that the relationship is non-linear.   "
   ]
  },
  {
   "cell_type": "code",
   "execution_count": 17,
   "metadata": {},
   "outputs": [],
   "source": [
    "# Selection of correlated columns to Y. \n",
    "corr_against_y = [corr_.index[0:40], corr_.index[0:60], corr_.index]"
   ]
  },
  {
   "cell_type": "code",
   "execution_count": 18,
   "metadata": {},
   "outputs": [],
   "source": [
    "scaled_test_df = pd.DataFrame(X_test_scaled, columns = X_test.columns)\n",
    "scaled_train_df = pd.DataFrame(X_train_scaled, columns = X_train.columns)"
   ]
  },
  {
   "cell_type": "code",
   "execution_count": 19,
   "metadata": {},
   "outputs": [
    {
     "data": {
      "image/png": "[encoded data removed]",
      "text/plain": [
       "<Figure size 864x720 with 2 Axes>"
      ]
     },
     "metadata": {
      "needs_background": "light"
     },
     "output_type": "display_data"
    }
   ],
   "source": [
    "# HeatMap Creation \n",
    "cor = scaled_train_df.corr()\n",
    "\n",
    "# Create a mask\n",
    "mask = np.triu(np.ones_like(cor, dtype=bool))\n",
    "\n",
    "# Create a custom divergin palette\n",
    "cmap = sns.diverging_palette(100, 7, s=75, l=40,\n",
    "                            n=5, center=\"light\", as_cmap=True)\n",
    "\n",
    "plt.figure(figsize=(12,10))\n",
    "\n",
    "sns.heatmap(cor, mask=mask, cmap= cmap)\n",
    "\n",
    "plt.show();"
   ]
  },
  {
   "cell_type": "markdown",
   "metadata": {},
   "source": [
    "### Removal of Covariant Features \n",
    "\n",
    "Based on the heatmap, some variables are reduntant and show co-variance against each other. These Columns will be removed. "
   ]
  },
  {
   "cell_type": "code",
   "execution_count": 20,
   "metadata": {},
   "outputs": [],
   "source": [
    "# Removal of Covariance Columns \n",
    "# Code snippet taken from krishnaik06 https://github.com/krishnaik06/Complete-Feature-Selection\n",
    "\n",
    "def correlation(dataset, threshold):\n",
    "    col_corr = set()  # Set of all the names of correlated columns\n",
    "    corr_matrix = dataset.corr()\n",
    "    for i in range(len(corr_matrix.columns)):\n",
    "        for j in range(i):\n",
    "            if abs(corr_matrix.iloc[i, j]) > threshold: # we are interested in absolute coeff value\n",
    "                colname = corr_matrix.columns[i]  # getting the name of column\n",
    "                col_corr.add(colname)\n",
    "    return col_corr"
   ]
  },
  {
   "cell_type": "code",
   "execution_count": 21,
   "metadata": {
    "scrolled": true
   },
   "outputs": [
    {
     "name": "stdout",
     "output_type": "stream",
     "text": [
      "The number of covariant features is 13 with a threshold of 0.6\n",
      "The number of covariant features is 8 with a threshold of 0.7\n",
      "The number of covariant features is 6 with a threshold of 0.8\n"
     ]
    }
   ],
   "source": [
    "corr_col = list()\n",
    "\n",
    "for threshold in [0.6, 0.7, 0.8]:\n",
    "    covariance = correlation(cor, threshold)\n",
    "    columns = list(covariance)\n",
    "    print(f'The number of covariant features is {len(columns)} with a threshold of {threshold}')\n",
    "    corr_col.append(columns)"
   ]
  },
  {
   "cell_type": "markdown",
   "metadata": {},
   "source": [
    "### Low Variance Columns \n",
    "\n",
    "The final feature selection technique is the removal of low variance columns. "
   ]
  },
  {
   "cell_type": "code",
   "execution_count": 22,
   "metadata": {
    "scrolled": true
   },
   "outputs": [
    {
     "name": "stdout",
     "output_type": "stream",
     "text": [
      "The Number of features after Low Var removal: 33\n",
      "The Number of features after Low Var removal: 42\n",
      "The Number of features after Low Var removal: 55\n"
     ]
    }
   ],
   "source": [
    "from sklearn.feature_selection import VarianceThreshold\n",
    "\n",
    "columns_non_constant = []\n",
    "\n",
    "for i in [0.005, 0.002, 0.0007]:\n",
    "  var_thres = VarianceThreshold(threshold= i)\n",
    "  var_thres.fit(X_train)\n",
    "  keep = X_train.columns[var_thres.get_support()]\n",
    "  print(f'The Number of features after Low Var removal: {len(keep)}')\n",
    "  columns_non_constant.append(keep)"
   ]
  },
  {
   "cell_type": "markdown",
   "metadata": {},
   "source": [
    "### Feature Selection "
   ]
  },
  {
   "cell_type": "code",
   "execution_count": 23,
   "metadata": {},
   "outputs": [
    {
     "name": "stdout",
     "output_type": "stream",
     "text": [
      "Number of features after low_correlation removal: 40\n",
      "Number of features after co_var removal: 29\n",
      "Number of features after low_var removal: 16\n",
      "Number of features after co_var removal: 34\n",
      "Number of features after low_var removal: 27\n",
      "Number of features after co_var removal: 36\n",
      "Co Var already removed low_var\n",
      "Number of features after low_correlation removal: 60\n",
      "Number of features after co_var removal: 48\n",
      "Number of features after low_var removal: 20\n",
      "Number of features after co_var removal: 53\n",
      "Number of features after low_var removal: 32\n",
      "Number of features after co_var removal: 55\n",
      "Number of features after low_var removal: 43\n",
      "Number of features after low_correlation removal: 76\n",
      "Number of features after co_var removal: 63\n",
      "Number of features after low_var removal: 22\n",
      "Number of features after co_var removal: 68\n",
      "Number of features after low_var removal: 35\n",
      "Number of features after co_var removal: 70\n",
      "Number of features after low_var removal: 49\n"
     ]
    }
   ],
   "source": [
    "# Removal of covariant features \n",
    "remove_corr = list()\n",
    "\n",
    "for i in range(0, 3):\n",
    "        \n",
    "    # Removal of low correlation against Y\n",
    "    remove_corr.append(corr_against_y[i])\n",
    "        \n",
    "    print(f'Number of features after low_correlation removal: {len(corr_against_y[i])}')\n",
    "        \n",
    "    for x in range(0, 3):\n",
    "        # Removal of co-variance features\n",
    "        co_var = [col for col in corr_against_y[i] if col not in corr_col[x]]\n",
    "        remove_corr.append(co_var)\n",
    "        print(f'Number of features after co_var removal: {len(co_var)}')\n",
    "        \n",
    "        # Removal of low variance features after co-variance\n",
    "        low_var = [column for column in co_var if column in columns_non_constant[x]]\n",
    "        \n",
    "        ## Append only if there is a difference after removal\n",
    "        if len(co_var) == len(low_var):\n",
    "            print('Co Var already removed low_var')\n",
    "        else:\n",
    "            remove_corr.append(low_var)\n",
    "            print(f'Number of features after low_var removal: {len(low_var)}')"
   ]
  },
  {
   "cell_type": "markdown",
   "metadata": {
    "id": "14ixnJ0EX0JX"
   },
   "source": [
    "### Neural Network (Inputting Feature Selection)\n",
    "---"
   ]
  },
  {
   "cell_type": "code",
   "execution_count": 27,
   "metadata": {
    "id": "eyoTB_gqXf93"
   },
   "outputs": [],
   "source": [
    "from keras.layers import LeakyReLU\n",
    "\n",
    "def nn_test(range_):\n",
    "\n",
    "  # For storing results \n",
    "  results = {}\n",
    "\n",
    "  for index in range_:\n",
    "#   # Define the model - deep neural net, i.e., the number of input features and hidden nodes for each layer.\n",
    "#     nn_model = tf.keras.models.Sequential()\n",
    "#     nn_model.add(tf.keras.layers.Dense(units=36, activation = LeakyReLU(alpha= 0.1), input_dim = len(scaled_train_df[remove_corr[index]].columns)))\n",
    "\n",
    "#     # First hidden layer\n",
    "#     nn_model.add(tf.keras.layers.Dense(units=128, activation=\"swish\"))\n",
    "#     # Second hidden layer\n",
    "#     nn_model.add(tf.keras.layers.Dense(units=128, activation=\"gelu\"))\n",
    "#     # Third hidden layer\n",
    "#     nn_model.add(tf.keras.layers.Dense(units=128, activation=\"relu\"))\n",
    "\n",
    "#     # Output layer\n",
    "#     nn_model.add(tf.keras.layers.Dense(units= 1, activation=\"sigmoid\"))\n",
    "\n",
    "#     #Compile Model\n",
    "#     nn_model.compile(loss=\"binary_crossentropy\", optimizer=\"adam\", metrics=[\"accuracy\"])\n",
    "    \n",
    "#     # Stop Early\n",
    "#     stop_early = tf.keras.callbacks.EarlyStopping(monitor='loss', patience=10)\n",
    "    \n",
    "#     # Train Model\n",
    "#     nn_model.fit(scaled_train_df[remove_corr[index]], y_train, epochs = 200, callbacks = [stop_early])\n",
    "    nn_model = keras.models.load_model(f'FeatureSelection/feature_select_nn_{index}')\n",
    "\n",
    "    # Evaluate Model\n",
    "    model_loss, model_accuracy = nn_model.evaluate(scaled_test_df[remove_corr[index]] , y_test, verbose=2) \n",
    "\n",
    "#     nn_model.save(f'feature_select_nn_{index}')\n",
    "\n",
    "    results[index] = {'model_loss': model_loss, 'model_accuracy': model_accuracy}\n",
    " \n",
    "  return results "
   ]
  },
  {
   "cell_type": "code",
   "execution_count": 28,
   "metadata": {},
   "outputs": [],
   "source": [
    "range_ = [i for i in range(0, 20)]"
   ]
  },
  {
   "cell_type": "code",
   "execution_count": 29,
   "metadata": {
    "id": "r_D-IhFNbPdK",
    "scrolled": true
   },
   "outputs": [
    {
     "name": "stdout",
     "output_type": "stream",
     "text": [
      "215/215 - 0s - loss: 0.5850 - accuracy: 0.7273 - 457ms/epoch - 2ms/step\n",
      "215/215 - 0s - loss: 0.5886 - accuracy: 0.7073 - 265ms/epoch - 1ms/step\n",
      "215/215 - 0s - loss: 0.5892 - accuracy: 0.7069 - 307ms/epoch - 1ms/step\n",
      "215/215 - 0s - loss: 0.5775 - accuracy: 0.7241 - 256ms/epoch - 1ms/step\n",
      "215/215 - 0s - loss: 0.5868 - accuracy: 0.7235 - 242ms/epoch - 1ms/step\n",
      "215/215 - 0s - loss: 0.5844 - accuracy: 0.7264 - 234ms/epoch - 1ms/step\n",
      "215/215 - 0s - loss: 0.5858 - accuracy: 0.7283 - 229ms/epoch - 1ms/step\n",
      "215/215 - 0s - loss: 0.5811 - accuracy: 0.7102 - 290ms/epoch - 1ms/step\n",
      "215/215 - 0s - loss: 0.5837 - accuracy: 0.7102 - 313ms/epoch - 1ms/step\n",
      "215/215 - 0s - loss: 0.5764 - accuracy: 0.7257 - 295ms/epoch - 1ms/step\n",
      "215/215 - 0s - loss: 0.5852 - accuracy: 0.7257 - 239ms/epoch - 1ms/step\n",
      "215/215 - 1s - loss: 0.5992 - accuracy: 0.7303 - 523ms/epoch - 2ms/step\n",
      "215/215 - 0s - loss: 0.5855 - accuracy: 0.7276 - 231ms/epoch - 1ms/step\n",
      "215/215 - 0s - loss: 0.6182 - accuracy: 0.7294 - 263ms/epoch - 1ms/step\n",
      "215/215 - 0s - loss: 0.5892 - accuracy: 0.7156 - 238ms/epoch - 1ms/step\n",
      "215/215 - 0s - loss: 0.5952 - accuracy: 0.7137 - 319ms/epoch - 1ms/step\n",
      "215/215 - 0s - loss: 0.5895 - accuracy: 0.7245 - 297ms/epoch - 1ms/step\n",
      "215/215 - 0s - loss: 0.5950 - accuracy: 0.7249 - 315ms/epoch - 1ms/step\n",
      "215/215 - 0s - loss: 0.6045 - accuracy: 0.7337 - 261ms/epoch - 1ms/step\n",
      "215/215 - 0s - loss: 0.5697 - accuracy: 0.7308 - 271ms/epoch - 1ms/step\n"
     ]
    }
   ],
   "source": [
    "corr_remove_test = nn_test(range_ = range_)"
   ]
  },
  {
   "cell_type": "code",
   "execution_count": 30,
   "metadata": {},
   "outputs": [],
   "source": [
    "# Number of Features \n",
    "length = pd.DataFrame([len(x) for x in remove_corr], columns = ['Number of Features'])"
   ]
  },
  {
   "cell_type": "code",
   "execution_count": 31,
   "metadata": {
    "colab": {
     "base_uri": "https://localhost:8080/"
    },
    "id": "0OyQl6ClbTOr",
    "outputId": "4f3d3f51-0d4e-4bbb-bf76-dee2a029f5e5",
    "scrolled": true
   },
   "outputs": [
    {
     "data": {
      "text/html": [
       "<div>\n",
       "<style scoped>\n",
       "    .dataframe tbody tr th:only-of-type {\n",
       "        vertical-align: middle;\n",
       "    }\n",
       "\n",
       "    .dataframe tbody tr th {\n",
       "        vertical-align: top;\n",
       "    }\n",
       "\n",
       "    .dataframe thead th {\n",
       "        text-align: right;\n",
       "    }\n",
       "</style>\n",
       "<table border=\"1\" class=\"dataframe\">\n",
       "  <thead>\n",
       "    <tr style=\"text-align: right;\">\n",
       "      <th></th>\n",
       "      <th>model_loss</th>\n",
       "      <th>model_accuracy</th>\n",
       "      <th>Number of Features</th>\n",
       "    </tr>\n",
       "  </thead>\n",
       "  <tbody>\n",
       "    <tr>\n",
       "      <th>18</th>\n",
       "      <td>0.604524</td>\n",
       "      <td>0.733673</td>\n",
       "      <td>70</td>\n",
       "    </tr>\n",
       "    <tr>\n",
       "      <th>19</th>\n",
       "      <td>0.569740</td>\n",
       "      <td>0.730758</td>\n",
       "      <td>49</td>\n",
       "    </tr>\n",
       "    <tr>\n",
       "      <th>11</th>\n",
       "      <td>0.599244</td>\n",
       "      <td>0.730321</td>\n",
       "      <td>55</td>\n",
       "    </tr>\n",
       "  </tbody>\n",
       "</table>\n",
       "</div>"
      ],
      "text/plain": [
       "    model_loss  model_accuracy  Number of Features\n",
       "18    0.604524        0.733673                  70\n",
       "19    0.569740        0.730758                  49\n",
       "11    0.599244        0.730321                  55"
      ]
     },
     "execution_count": 31,
     "metadata": {},
     "output_type": "execute_result"
    }
   ],
   "source": [
    "# Top Models after Feature Selection \n",
    "best = pd.DataFrame(corr_remove_test).transpose().sort_values(by = 'model_accuracy', ascending = False).head(3)\n",
    "best = pd.merge(best, length, left_index = True, right_index = True)\n",
    "best.head()"
   ]
  },
  {
   "cell_type": "markdown",
   "metadata": {},
   "source": [
    "### Export Top Optimized Models "
   ]
  },
  {
   "cell_type": "code",
   "execution_count": 32,
   "metadata": {},
   "outputs": [],
   "source": [
    "for index in best.index:\n",
    "    model = keras.models.load_model(f'FeatureSelection/feature_select_nn_{index}')\n",
    "    model.save(f'Models/Optimized_model_{index}.h5')"
   ]
  },
  {
   "cell_type": "markdown",
   "metadata": {},
   "source": [
    "### HyperOptimization for top Model"
   ]
  },
  {
   "cell_type": "code",
   "execution_count": 33,
   "metadata": {},
   "outputs": [],
   "source": [
    "best_features = remove_corr[19]"
   ]
  },
  {
   "cell_type": "markdown",
   "metadata": {},
   "source": [
    "Model #19 was chosen as the top model, although it has a slightly lower accuracy. The tradeoff of twenty less features waws deemed significant enough. "
   ]
  },
  {
   "cell_type": "markdown",
   "metadata": {},
   "source": [
    "### Top Model"
   ]
  },
  {
   "cell_type": "code",
   "execution_count": 34,
   "metadata": {},
   "outputs": [],
   "source": [
    " # New Sequential model with hyperparameter options\n",
    "def create_model(hp):\n",
    "    \n",
    "    nn_model = tf.keras.models.Sequential()\n",
    "\n",
    "    # Allow kerastuner to decide which activation function to use in hidden layers\n",
    "    activation = hp.Choice('activation',['relu', 'tanh', 'swish', 'gelu', 'sigmoid'])\n",
    "    \n",
    "    # Allow kerastuner to decide number of neurons in first layer\n",
    "    nn_model.add(tf.keras.layers.Dense(units=hp.Int('first_units',\n",
    "        min_value=1,\n",
    "        max_value=256,\n",
    "        step=7), activation= activation, input_dim= len(best_features)))\n",
    "\n",
    "    # Allow kerastuner to decide number of hidden layers and neurons in hidden layers\n",
    "    for i in range(hp.Int('num_layers', 1, 5)):\n",
    "        nn_model.add(tf.keras.layers.Dense(units=hp.Int('units_' + str(i),\n",
    "            min_value=32,\n",
    "            max_value=256,\n",
    "            step=16),\n",
    "            activation=activation))\n",
    "    \n",
    "    # optimizer \n",
    "    Optimizer = keras.optimizers.Adam(hp.Choice('learning_rate', values = [1.0, 0.1, 0.01, 0.001, 0.0001]))\n",
    "    \n",
    "    nn_model.add(tf.keras.layers.Dense(units=1, activation= hp.Choice('activation', ['sigmoid', 'tanh'])))\n",
    "\n",
    "    # Compile the model\n",
    "    nn_model.compile(loss=\"binary_crossentropy\", optimizer = Optimizer, metrics=[\"accuracy\"])\n",
    "    \n",
    "    return nn_model"
   ]
  },
  {
   "cell_type": "code",
   "execution_count": 35,
   "metadata": {},
   "outputs": [
    {
     "name": "stdout",
     "output_type": "stream",
     "text": [
      "INFO:tensorflow:Reloading Tuner from saved/nn_tune_final/tuner0.json\n"
     ]
    }
   ],
   "source": [
    "# Import the kerastuner library\n",
    "import keras_tuner as kt\n",
    "\n",
    "tuner = kt.Hyperband(\n",
    "    create_model,\n",
    "    objective= \"val_accuracy\",\n",
    "    max_epochs= 100,\n",
    "    directory = 'saved',\n",
    "    project_name = 'nn_tune_final',\n",
    "    overwrite = False,\n",
    "    hyperband_iterations= 2)"
   ]
  },
  {
   "cell_type": "code",
   "execution_count": 36,
   "metadata": {
    "scrolled": true
   },
   "outputs": [
    {
     "name": "stdout",
     "output_type": "stream",
     "text": [
      "INFO:tensorflow:Oracle triggered exit\n"
     ]
    }
   ],
   "source": [
    "stop_early = tf.keras.callbacks.EarlyStopping(monitor='loss', patience=20)\n",
    "\n",
    "tuner.search(scaled_train_df[best_features] ,y_train, \n",
    "             epochs = 50, \n",
    "             validation_data= (scaled_test_df[best_features],y_test), callbacks=[stop_early])"
   ]
  },
  {
   "cell_type": "code",
   "execution_count": 45,
   "metadata": {},
   "outputs": [
    {
     "data": {
      "text/plain": [
       "{'activation': 'gelu',\n",
       " 'first_units': 43,\n",
       " 'num_layers': 3,\n",
       " 'units_0': 96,\n",
       " 'learning_rate': 0.001,\n",
       " 'units_1': 48,\n",
       " 'units_2': 224,\n",
       " 'units_3': 96,\n",
       " 'units_4': 208,\n",
       " 'tuner/epochs': 100,\n",
       " 'tuner/initial_epoch': 34,\n",
       " 'tuner/bracket': 4,\n",
       " 'tuner/round': 4,\n",
       " 'tuner/trial_id': '0396'}"
      ]
     },
     "execution_count": 45,
     "metadata": {},
     "output_type": "execute_result"
    }
   ],
   "source": [
    "# Getting Best Parameters\n",
    "best_params = tuner.get_best_hyperparameters(num_trials=1)[0]\n",
    "best_params.values"
   ]
  },
  {
   "cell_type": "code",
   "execution_count": 37,
   "metadata": {},
   "outputs": [
    {
     "name": "stdout",
     "output_type": "stream",
     "text": [
      "215/215 - 0s - loss: 0.5798 - accuracy: 0.7340 - 357ms/epoch - 2ms/step\n",
      "Loss: 0.5798496007919312, Accuracy: 0.7339650392532349\n"
     ]
    }
   ],
   "source": [
    "# Training Mdoel Again \n",
    "best_model = tuner.get_best_models(1)[0]\n",
    "model_loss, model_accuracy = best_model.evaluate(scaled_test_df[best_features],y_test,verbose=2)\n",
    "print(f\"Loss: {model_loss}, Accuracy: {model_accuracy}\")"
   ]
  },
  {
   "cell_type": "code",
   "execution_count": 38,
   "metadata": {
    "scrolled": true
   },
   "outputs": [
    {
     "name": "stdout",
     "output_type": "stream",
     "text": [
      "215/215 [==============================] - 0s 649us/step\n"
     ]
    }
   ],
   "source": [
    "# Isolating y_pred\n",
    "y_pred = best_model.predict(scaled_test_df[best_features]).ravel()\n",
    "y_pred = pd.Series(y_pred).apply(lambda x: 1 if x >= 0.5 else 0)"
   ]
  },
  {
   "cell_type": "code",
   "execution_count": 39,
   "metadata": {},
   "outputs": [
    {
     "data": {
      "text/html": [
       "<div>\n",
       "<style scoped>\n",
       "    .dataframe tbody tr th:only-of-type {\n",
       "        vertical-align: middle;\n",
       "    }\n",
       "\n",
       "    .dataframe tbody tr th {\n",
       "        vertical-align: top;\n",
       "    }\n",
       "\n",
       "    .dataframe thead th {\n",
       "        text-align: right;\n",
       "    }\n",
       "</style>\n",
       "<table border=\"1\" class=\"dataframe\">\n",
       "  <thead>\n",
       "    <tr style=\"text-align: right;\">\n",
       "      <th></th>\n",
       "      <th>Predicted 0</th>\n",
       "      <th>Predicted 1</th>\n",
       "    </tr>\n",
       "  </thead>\n",
       "  <tbody>\n",
       "    <tr>\n",
       "      <th>Actual 0</th>\n",
       "      <td>2098</td>\n",
       "      <td>1109</td>\n",
       "    </tr>\n",
       "    <tr>\n",
       "      <th>Actual 1</th>\n",
       "      <td>716</td>\n",
       "      <td>2937</td>\n",
       "    </tr>\n",
       "  </tbody>\n",
       "</table>\n",
       "</div>"
      ],
      "text/plain": [
       "          Predicted 0  Predicted 1\n",
       "Actual 0         2098         1109\n",
       "Actual 1          716         2937"
      ]
     },
     "execution_count": 39,
     "metadata": {},
     "output_type": "execute_result"
    }
   ],
   "source": [
    "# Generate a confusion matrix for the model\n",
    "cm = confusion_matrix(y_test, y_pred)\n",
    "\n",
    "# Calculating the accuracy score\n",
    "cm_df = pd.DataFrame(\n",
    "    cm, index=[\"Actual 0\", \"Actual 1\"], columns=[\"Predicted 0\", \"Predicted 1\"])\n",
    "\n",
    "cm_df"
   ]
  },
  {
   "cell_type": "code",
   "execution_count": 40,
   "metadata": {},
   "outputs": [
    {
     "name": "stdout",
     "output_type": "stream",
     "text": [
      "              precision    recall  f1-score   support\n",
      "\n",
      "           0       0.75      0.65      0.70      3207\n",
      "           1       0.73      0.80      0.76      3653\n",
      "\n",
      "    accuracy                           0.73      6860\n",
      "   macro avg       0.74      0.73      0.73      6860\n",
      "weighted avg       0.74      0.73      0.73      6860\n",
      "\n"
     ]
    }
   ],
   "source": [
    "print(classification_report(y_test, y_pred))"
   ]
  },
  {
   "cell_type": "code",
   "execution_count": 46,
   "metadata": {},
   "outputs": [],
   "source": [
    "best_model.save('Models/HyperOps19.h5')"
   ]
  },
  {
   "cell_type": "markdown",
   "metadata": {},
   "source": [
    "## Results after Feature Selection and Hyper-Optimization\n",
    "\n",
    "After future selection & hyper-optimization, the best model presented has an accuracy of 73.4% and is short of the 75% threshold for the project. \n",
    "\n",
    "### Potential addition of name into model\n",
    "\n",
    "Another attempt is to add the organizational names into the features from the original dataset (this was removed earlier) to boost the model's performance. However, this addition would risk infomation leakage and overfitting and questions the generalizability of the model to unseen customer names. "
   ]
  },
  {
   "cell_type": "markdown",
   "metadata": {},
   "source": [
    "## Adding Back Organizational Names"
   ]
  },
  {
   "cell_type": "code",
   "execution_count": 47,
   "metadata": {
    "scrolled": true
   },
   "outputs": [
    {
     "data": {
      "text/html": [
       "<div>\n",
       "<style scoped>\n",
       "    .dataframe tbody tr th:only-of-type {\n",
       "        vertical-align: middle;\n",
       "    }\n",
       "\n",
       "    .dataframe tbody tr th {\n",
       "        vertical-align: top;\n",
       "    }\n",
       "\n",
       "    .dataframe thead th {\n",
       "        text-align: right;\n",
       "    }\n",
       "</style>\n",
       "<table border=\"1\" class=\"dataframe\">\n",
       "  <thead>\n",
       "    <tr style=\"text-align: right;\">\n",
       "      <th></th>\n",
       "      <th>EIN</th>\n",
       "      <th>NAME</th>\n",
       "      <th>APPLICATION_TYPE</th>\n",
       "      <th>AFFILIATION</th>\n",
       "      <th>CLASSIFICATION</th>\n",
       "      <th>USE_CASE</th>\n",
       "      <th>ORGANIZATION</th>\n",
       "      <th>STATUS</th>\n",
       "      <th>INCOME_AMT</th>\n",
       "      <th>SPECIAL_CONSIDERATIONS</th>\n",
       "      <th>ASK_AMT</th>\n",
       "      <th>IS_SUCCESSFUL</th>\n",
       "    </tr>\n",
       "  </thead>\n",
       "  <tbody>\n",
       "    <tr>\n",
       "      <th>0</th>\n",
       "      <td>10520599</td>\n",
       "      <td>BLUE KNIGHTS MOTORCYCLE CLUB</td>\n",
       "      <td>T10</td>\n",
       "      <td>Independent</td>\n",
       "      <td>C1000</td>\n",
       "      <td>ProductDev</td>\n",
       "      <td>Association</td>\n",
       "      <td>1</td>\n",
       "      <td>0</td>\n",
       "      <td>N</td>\n",
       "      <td>5000</td>\n",
       "      <td>1</td>\n",
       "    </tr>\n",
       "    <tr>\n",
       "      <th>1</th>\n",
       "      <td>10531628</td>\n",
       "      <td>AMERICAN CHESAPEAKE CLUB CHARITABLE TR</td>\n",
       "      <td>T3</td>\n",
       "      <td>Independent</td>\n",
       "      <td>C2000</td>\n",
       "      <td>Preservation</td>\n",
       "      <td>Co-operative</td>\n",
       "      <td>1</td>\n",
       "      <td>1-9999</td>\n",
       "      <td>N</td>\n",
       "      <td>108590</td>\n",
       "      <td>1</td>\n",
       "    </tr>\n",
       "    <tr>\n",
       "      <th>2</th>\n",
       "      <td>10547893</td>\n",
       "      <td>ST CLOUD PROFESSIONAL FIREFIGHTERS</td>\n",
       "      <td>T5</td>\n",
       "      <td>CompanySponsored</td>\n",
       "      <td>C3000</td>\n",
       "      <td>ProductDev</td>\n",
       "      <td>Association</td>\n",
       "      <td>1</td>\n",
       "      <td>0</td>\n",
       "      <td>N</td>\n",
       "      <td>5000</td>\n",
       "      <td>0</td>\n",
       "    </tr>\n",
       "  </tbody>\n",
       "</table>\n",
       "</div>"
      ],
      "text/plain": [
       "        EIN                                    NAME APPLICATION_TYPE  \\\n",
       "0  10520599            BLUE KNIGHTS MOTORCYCLE CLUB              T10   \n",
       "1  10531628  AMERICAN CHESAPEAKE CLUB CHARITABLE TR               T3   \n",
       "2  10547893      ST CLOUD PROFESSIONAL FIREFIGHTERS               T5   \n",
       "\n",
       "        AFFILIATION CLASSIFICATION      USE_CASE  ORGANIZATION  STATUS  \\\n",
       "0       Independent          C1000    ProductDev   Association       1   \n",
       "1       Independent          C2000  Preservation  Co-operative       1   \n",
       "2  CompanySponsored          C3000    ProductDev   Association       1   \n",
       "\n",
       "  INCOME_AMT SPECIAL_CONSIDERATIONS  ASK_AMT  IS_SUCCESSFUL  \n",
       "0          0                      N     5000              1  \n",
       "1     1-9999                      N   108590              1  \n",
       "2          0                      N     5000              0  "
      ]
     },
     "execution_count": 47,
     "metadata": {},
     "output_type": "execute_result"
    }
   ],
   "source": [
    "application_df = pd.read_csv(\"https://static.bc-edx.com/data/dl-1-2/m21/lms/starter/charity_data.csv\")\n",
    "application_df.head(3)"
   ]
  },
  {
   "cell_type": "code",
   "execution_count": 48,
   "metadata": {},
   "outputs": [],
   "source": [
    "application_df.drop('EIN', axis = 1, inplace = True)"
   ]
  },
  {
   "cell_type": "code",
   "execution_count": 49,
   "metadata": {},
   "outputs": [
    {
     "data": {
      "text/html": [
       "<div>\n",
       "<style scoped>\n",
       "    .dataframe tbody tr th:only-of-type {\n",
       "        vertical-align: middle;\n",
       "    }\n",
       "\n",
       "    .dataframe tbody tr th {\n",
       "        vertical-align: top;\n",
       "    }\n",
       "\n",
       "    .dataframe thead th {\n",
       "        text-align: right;\n",
       "    }\n",
       "</style>\n",
       "<table border=\"1\" class=\"dataframe\">\n",
       "  <thead>\n",
       "    <tr style=\"text-align: right;\">\n",
       "      <th></th>\n",
       "      <th>NAME</th>\n",
       "      <th>PercentageOfTotal</th>\n",
       "      <th>CUMSUM</th>\n",
       "    </tr>\n",
       "  </thead>\n",
       "  <tbody>\n",
       "    <tr>\n",
       "      <th>PARENT BOOSTER USA INC</th>\n",
       "      <td>1260</td>\n",
       "      <td>0.036736</td>\n",
       "      <td>0.036736</td>\n",
       "    </tr>\n",
       "    <tr>\n",
       "      <th>TOPS CLUB INC</th>\n",
       "      <td>765</td>\n",
       "      <td>0.022304</td>\n",
       "      <td>0.059040</td>\n",
       "    </tr>\n",
       "    <tr>\n",
       "      <th>UNITED STATES BOWLING CONGRESS INC</th>\n",
       "      <td>700</td>\n",
       "      <td>0.020409</td>\n",
       "      <td>0.079448</td>\n",
       "    </tr>\n",
       "    <tr>\n",
       "      <th>WASHINGTON STATE UNIVERSITY</th>\n",
       "      <td>492</td>\n",
       "      <td>0.014344</td>\n",
       "      <td>0.093793</td>\n",
       "    </tr>\n",
       "    <tr>\n",
       "      <th>AMATEUR ATHLETIC UNION OF THE UNITED STATES INC</th>\n",
       "      <td>408</td>\n",
       "      <td>0.011895</td>\n",
       "      <td>0.105688</td>\n",
       "    </tr>\n",
       "  </tbody>\n",
       "</table>\n",
       "</div>"
      ],
      "text/plain": [
       "                                                 NAME  PercentageOfTotal  \\\n",
       "PARENT BOOSTER USA INC                           1260           0.036736   \n",
       "TOPS CLUB INC                                     765           0.022304   \n",
       "UNITED STATES BOWLING CONGRESS INC                700           0.020409   \n",
       "WASHINGTON STATE UNIVERSITY                       492           0.014344   \n",
       "AMATEUR ATHLETIC UNION OF THE UNITED STATES INC   408           0.011895   \n",
       "\n",
       "                                                   CUMSUM  \n",
       "PARENT BOOSTER USA INC                           0.036736  \n",
       "TOPS CLUB INC                                    0.059040  \n",
       "UNITED STATES BOWLING CONGRESS INC               0.079448  \n",
       "WASHINGTON STATE UNIVERSITY                      0.093793  \n",
       "AMATEUR ATHLETIC UNION OF THE UNITED STATES INC  0.105688  "
      ]
     },
     "execution_count": 49,
     "metadata": {},
     "output_type": "execute_result"
    }
   ],
   "source": [
    "name_count = application_df['NAME'].value_counts().to_frame()\n",
    "sum_ = name_count['NAME'].sum()\n",
    "name_count['PercentageOfTotal'] = name_count['NAME']/sum_\n",
    "name_count['CUMSUM'] = name_count['PercentageOfTotal'].cumsum()\n",
    "\n",
    "name_count.head()"
   ]
  },
  {
   "cell_type": "code",
   "execution_count": 50,
   "metadata": {},
   "outputs": [],
   "source": [
    "rare_name = name_count[name_count['NAME'] == 1].index.tolist()\n",
    "\n",
    "for name in rare_name:\n",
    "    application_df['NAME'] = application_df['NAME'].replace(name, 'Rare_Name')"
   ]
  },
  {
   "cell_type": "markdown",
   "metadata": {},
   "source": [
    "## Transformations of Previous Step "
   ]
  },
  {
   "cell_type": "code",
   "execution_count": 51,
   "metadata": {},
   "outputs": [],
   "source": [
    "# Look at APPLICATION_TYPE value counts for binning\n",
    "types = application_df.APPLICATION_TYPE.value_counts().to_frame()\n",
    "types['Percentage'] = types['APPLICATION_TYPE']/types['APPLICATION_TYPE'].sum()\n",
    "types['CUMSUM'] = types['Percentage'].cumsum()\n",
    "types\n",
    "\n",
    "rare = types.index[-8:]\n",
    "\n",
    "# Choose a cutoff value and create a list of application types to be replaced\n",
    "# use the variable name `application_types_to_replace`\n",
    "\n",
    "# Replace in dataframe for rare \n",
    "for app in rare:\n",
    "    application_df['APPLICATION_TYPE'] = application_df['APPLICATION_TYPE'].replace(app,\"Rare\")\n",
    "\n",
    "# Check to make sure binning was successful\n",
    "application_df['APPLICATION_TYPE'].value_counts()\n",
    "\n",
    "# Look at CLASSIFICATION value counts for binning\n",
    "classification = application_df.CLASSIFICATION.value_counts().sort_values(ascending = False).to_frame()\n",
    "classification.head(15)\n",
    "\n",
    "# You may find it helpful to look at CLASSIFICATION value counts >1\n",
    "rarity = classification[classification['CLASSIFICATION'] < 5]\n",
    "rare = rarity.index.tolist()\n",
    "\n",
    "# Choose a cutoff value and create a list of classifications to be replaced\n",
    "# Replace in dataframe\n",
    "for cls in rare:\n",
    "    application_df['CLASSIFICATION'] = application_df['CLASSIFICATION'].replace(cls,\"rare_class\")\n",
    "    \n",
    "# Check to make sure binning was successful\n",
    "application_df['CLASSIFICATION'].value_counts()\n",
    "\n",
    "# Isolating Object Catories \n",
    "category = application_df.select_dtypes(include='object').columns\n",
    "\n",
    "\n",
    "# Convert categorical data to numeric with `pd.get_dummies`\n",
    "cat = pd.get_dummies(application_df[category], drop_first=False)\n",
    "\n",
    "# Drop original data\n",
    "application_df.drop(category, axis = 1, inplace = True)\n",
    "application_df = pd.merge(application_df, cat, left_index = True, right_index = True)\n",
    "\n",
    "# Split our preprocessed data into our features and target arrays\n",
    "feature = [col for col in application_df.columns if col != 'IS_SUCCESSFUL']\n",
    "X = application_df[feature]\n",
    "Y = application_df['IS_SUCCESSFUL']\n",
    "\n",
    "# Split the preprocessed data into a training and testing dataset\n",
    "X_train, X_test, y_train, y_test = train_test_split(X, Y, test_size = 0.2, random_state = 1)\n",
    "\n",
    "# Create a StandardScaler instances\n",
    "scaler = StandardScaler()\n",
    "\n",
    "# Fit the StandardScaler\n",
    "X_scaler = scaler.fit(X_train)\n",
    "\n",
    "# Scale the data\n",
    "X_train_scaled = X_scaler.transform(X_train)\n",
    "X_test_scaled = X_scaler.transform(X_test)"
   ]
  },
  {
   "cell_type": "code",
   "execution_count": 52,
   "metadata": {},
   "outputs": [],
   "source": [
    "scaled_test_df = pd.DataFrame(X_test_scaled, columns = X_test.columns)\n",
    "scaled_train_df = pd.DataFrame(X_train_scaled, columns = X_train.columns)"
   ]
  },
  {
   "cell_type": "markdown",
   "metadata": {},
   "source": [
    "## Neural Network Model with Names "
   ]
  },
  {
   "cell_type": "code",
   "execution_count": 53,
   "metadata": {},
   "outputs": [],
   "source": [
    "# from keras.layers import LeakyReLU\n",
    "\n",
    "# # Define the model - deep neural net, i.e., the number of input features and hidden nodes for each layer.\n",
    "\n",
    "# nn_model = tf.keras.models.Sequential()\n",
    "\n",
    "# nn_model.add(tf.keras.layers.Dense(units=31, activation = LeakyReLU(alpha= 1), input_dim = len(scaled_train_df.columns)))\n",
    "\n",
    "# # First hidden layer\n",
    "# nn_model.add(tf.keras.layers.Dense(units=128, activation=\"tanh\"))\n",
    "\n",
    "# # Second hidden layer\n",
    "# nn_model.add(tf.keras.layers.Dense(units=128, activation=\"relu\"))\n",
    "\n",
    "# # Third hidden layer\n",
    "# nn_model.add(tf.keras.layers.Dense(units=128, activation=\"relu\"))\n",
    "\n",
    "# # Output layer\n",
    "# nn_model.add(tf.keras.layers.Dense(units= 1, activation=\"sigmoid\"))\n",
    "\n",
    "# # Check the structure of the model\n",
    "# nn_model.summary()"
   ]
  },
  {
   "cell_type": "code",
   "execution_count": 54,
   "metadata": {},
   "outputs": [],
   "source": [
    "# #Compile Model\n",
    "# nn_model.compile(loss=\"binary_crossentropy\", optimizer=\"adam\", metrics=[\"accuracy\"])\n",
    "    \n",
    "# # Stop Early\n",
    "# stop_early = tf.keras.callbacks.EarlyStopping(monitor='loss', patience=25)\n",
    "    \n",
    "# # Train Model\n",
    "# nn_model.fit(scaled_train_df, y_train, epochs = 200, callbacks = [stop_early])"
   ]
  },
  {
   "cell_type": "code",
   "execution_count": 55,
   "metadata": {},
   "outputs": [],
   "source": [
    "# Export our model to HDF5 file\n",
    "nn_model = keras.models.load_model('Models/nn_with_names.h5')"
   ]
  },
  {
   "cell_type": "code",
   "execution_count": 59,
   "metadata": {},
   "outputs": [
    {
     "name": "stdout",
     "output_type": "stream",
     "text": [
      "215/215 [==============================] - 0s 1ms/step\n"
     ]
    }
   ],
   "source": [
    "# Y_Pred from Model\n",
    "y_pred = nn_model.predict(scaled_test_df).ravel()\n",
    "y_pred = pd.Series(y_pred).apply(lambda x: 1 if x >= 0.5 else 0)"
   ]
  },
  {
   "cell_type": "code",
   "execution_count": 56,
   "metadata": {},
   "outputs": [
    {
     "name": "stdout",
     "output_type": "stream",
     "text": [
      "215/215 - 0s - loss: 0.5435 - accuracy: 0.7971 - 334ms/epoch - 2ms/step\n"
     ]
    },
    {
     "data": {
      "text/plain": [
       "[0.5434670448303223, 0.7970845699310303]"
      ]
     },
     "execution_count": 56,
     "metadata": {},
     "output_type": "execute_result"
    }
   ],
   "source": [
    "# Eveluating test set \n",
    "nn_model.evaluate(scaled_test_df,y_test,verbose=2)"
   ]
  },
  {
   "cell_type": "code",
   "execution_count": 57,
   "metadata": {},
   "outputs": [
    {
     "name": "stdout",
     "output_type": "stream",
     "text": [
      "858/858 - 1s - loss: 0.3748 - accuracy: 0.8216 - 622ms/epoch - 725us/step\n"
     ]
    },
    {
     "data": {
      "text/plain": [
       "[0.37484484910964966, 0.8216407299041748]"
      ]
     },
     "execution_count": 57,
     "metadata": {},
     "output_type": "execute_result"
    }
   ],
   "source": [
    "# Evaluating train set \n",
    "nn_model.evaluate(scaled_train_df,y_train,verbose=2)"
   ]
  },
  {
   "cell_type": "code",
   "execution_count": 60,
   "metadata": {},
   "outputs": [
    {
     "name": "stdout",
     "output_type": "stream",
     "text": [
      "              precision    recall  f1-score   support\n",
      "\n",
      "           0       0.88      0.65      0.75      3207\n",
      "           1       0.75      0.93      0.83      3653\n",
      "\n",
      "    accuracy                           0.80      6860\n",
      "   macro avg       0.82      0.79      0.79      6860\n",
      "weighted avg       0.81      0.80      0.79      6860\n",
      "\n"
     ]
    }
   ],
   "source": [
    "# Classification Report \n",
    "print(classification_report(y_test, y_pred))"
   ]
  }
 ],
 "metadata": {
  "colab": {
   "provenance": []
  },
  "kernelspec": {
   "display_name": "Python 3 (ipykernel)",
   "language": "python",
   "name": "python3"
  },
  "language_info": {
   "codemirror_mode": {
    "name": "ipython",
    "version": 3
   },
   "file_extension": ".py",
   "mimetype": "text/x-python",
   "name": "python",
   "nbconvert_exporter": "python",
   "pygments_lexer": "ipython3",
   "version": "3.9.12"
  },
  "vscode": {
   "interpreter": {
    "hash": "31f2aee4e71d21fbe5cf8b01ff0e069b9275f58929596ceb00d14d90e3e16cd6"
   }
  }
 },
 "nbformat": 4,
 "nbformat_minor": 1
}
